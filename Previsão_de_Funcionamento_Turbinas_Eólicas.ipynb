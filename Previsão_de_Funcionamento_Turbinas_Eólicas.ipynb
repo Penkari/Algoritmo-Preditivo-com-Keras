{
  "nbformat": 4,
  "nbformat_minor": 0,
  "metadata": {
    "colab": {
      "provenance": []
    },
    "kernelspec": {
      "name": "python3",
      "display_name": "Python 3"
    },
    "language_info": {
      "name": "python"
    }
  },
  "cells": [
    {
      "cell_type": "code",
      "execution_count": 13,
      "metadata": {
        "id": "rMIubW1EpXLU"
      },
      "outputs": [],
      "source": [
        "import tensorflow as teras\n",
        "\n",
        "import pandas as pandinha"
      ]
    },
    {
      "cell_type": "code",
      "source": [
        "nome_das_colunas = ['LV-ActivePower-kW', 'Wind-Speed-m/s', 'Theoretical-Power-Curve-KWh', 'Wind-Direction', 'potenciado']\n",
        "funcionamento = ['Fora do Limite Aceitável', 'Dentro do Limite Aceitável']"
      ],
      "metadata": {
        "id": "_9gevEBYpro8"
      },
      "execution_count": 14,
      "outputs": []
    },
    {
      "cell_type": "code",
      "source": [
        "arquivo = pandinha.read_csv(teras.keras.utils.get_file(\n",
        "    'raw_turbina_scala.csv',\n",
        "    'https://raw.githubusercontent.com/vhsmdev/analytics-turbina-eolica/main/data/raw/raw_turbina_scala.csv'))\n",
        "\n",
        "potenciado = []\n",
        "\n",
        "for p, potencia in enumerate(list(arquivo['LV ActivePower (kW)'])):\n",
        "  if potencia >= (arquivo.loc[p, 'Theoretical_Power_Curve (KWh)'] * 0.95) and potencia <= (arquivo.loc[p, 'Theoretical_Power_Curve (KWh)'] * 1.05):\n",
        "    potenciado.append(1)\n",
        "\n",
        "  else:\n",
        "    potenciado.append(0)\n",
        "\n",
        "arquivo['potenciado'] = potenciado\n",
        "\n",
        "arquivo = pandinha.concat([arquivo, arquivo.loc[(arquivo['LV ActivePower (kW)'] == 0.0) |\n",
        "                                                  (arquivo['Wind Speed (m/s)'] == 0.0) |\n",
        "                                                  (arquivo['Theoretical_Power_Curve (KWh)'] == 0.0) |\n",
        "                                                  (arquivo['Wind Direction (°)'] == 0.0)]])\n",
        "\n",
        "arquivo = arquivo.drop_duplicates(keep = False).drop('Date/Time', axis = 1)\n",
        "\n",
        "arquivo.columns = nome_das_colunas\n",
        "\n",
        "treino = arquivo[9821:]\n",
        "\n",
        "prova = arquivo[:9821]\n",
        "\n",
        "treino_y = treino.pop('potenciado')\n",
        "\n",
        "prova_y = prova.pop('potenciado')"
      ],
      "metadata": {
        "id": "vkmxFJmeFw8y"
      },
      "execution_count": 15,
      "outputs": []
    },
    {
      "cell_type": "code",
      "source": [
        "def fu_entrada(recursos, rotulos, treinamento = True, tamanho_lote = 256):\n",
        "  dados = teras.data.Dataset.from_tensor_slices((dict(recursos), rotulos))\n",
        "\n",
        "  if treinamento:\n",
        "    dados = dados.shuffle(1000).repeat()\n",
        "\n",
        "  return dados.batch(tamanho_lote)"
      ],
      "metadata": {
        "id": "c_QaDMh7HZiG"
      },
      "execution_count": 16,
      "outputs": []
    },
    {
      "cell_type": "code",
      "source": [
        "colunas_de_recurso = []\n",
        "\n",
        "for chave in treino.keys():\n",
        "  colunas_de_recurso.append(teras.feature_column.numeric_column(key = chave))"
      ],
      "metadata": {
        "id": "XXftm0P7HbrM"
      },
      "execution_count": 17,
      "outputs": []
    },
    {
      "cell_type": "code",
      "source": [
        "classificador = teras.keras.Sequential([\n",
        "  teras.keras.layers.DenseFeatures(colunas_de_recurso),\n",
        "  teras.keras.layers.Dense(30, activation = 'relu'),\n",
        "  teras.keras.layers.Dense(10, activation = 'relu'),\n",
        "  teras.keras.layers.Dense(2, activation = 'softmax')])\n",
        "\n",
        "classificador.compile(optimizer = 'adam',\n",
        "              loss = 'sparse_categorical_crossentropy',\n",
        "              metrics = ['accuracy'])"
      ],
      "metadata": {
        "id": "VNG7CazAHg3U"
      },
      "execution_count": 18,
      "outputs": []
    },
    {
      "cell_type": "code",
      "source": [
        "classificador.fit(\n",
        "    fu_entrada(treino, treino_y, treinamento = True),\n",
        "    steps_per_epoch = 5000)"
      ],
      "metadata": {
        "colab": {
          "base_uri": "https://localhost:8080/"
        },
        "id": "6O8yKjRBHkvv",
        "outputId": "3019cbcd-ad27-42a2-c17e-3821b72e2784"
      },
      "execution_count": 19,
      "outputs": [
        {
          "output_type": "stream",
          "name": "stdout",
          "text": [
            "5000/5000 [==============================] - 16s 3ms/step - loss: 0.6735 - accuracy: 0.9708\n"
          ]
        },
        {
          "output_type": "execute_result",
          "data": {
            "text/plain": [
              "<keras.src.callbacks.History at 0x7d53f82ec3a0>"
            ]
          },
          "metadata": {},
          "execution_count": 19
        }
      ]
    },
    {
      "cell_type": "code",
      "source": [
        "resultado_de_avaliacao = classificador.evaluate(\n",
        "    fu_entrada(prova, prova_y, treinamento = False))\n",
        "\n",
        "print(f'\\nPrecisão do Conjunto de Provas: {resultado_de_avaliacao[-1] * 100:.2f}%')"
      ],
      "metadata": {
        "colab": {
          "base_uri": "https://localhost:8080/"
        },
        "id": "P-0NINOGVLkN",
        "outputId": "f37b9dd9-8f1f-4396-8320-8d1d576b401d"
      },
      "execution_count": 20,
      "outputs": [
        {
          "output_type": "stream",
          "name": "stdout",
          "text": [
            "39/39 [==============================] - 0s 2ms/step - loss: 0.1461 - accuracy: 0.9537\n",
            "\n",
            "Precisão do Conjunto de Provas: 95.37%\n"
          ]
        }
      ]
    },
    {
      "cell_type": "code",
      "source": [
        "def entrada(recursos, lote = 256):\n",
        "  return teras.data.Dataset.from_tensor_slices(dict(recursos)).batch(lote)"
      ],
      "metadata": {
        "id": "m6K3X7qgVagt"
      },
      "execution_count": 21,
      "outputs": []
    },
    {
      "cell_type": "code",
      "source": [
        "recursos = ['LV-ActivePower-kW', 'Wind-Speed-m/s', 'Theoretical-Power-Curve-KWh', 'Wind-Direction']\n",
        "prever = {}"
      ],
      "metadata": {
        "id": "RsL2c4-FVb5E"
      },
      "execution_count": 22,
      "outputs": []
    },
    {
      "cell_type": "code",
      "source": [
        "for recurso in recursos:\n",
        "  valido = True\n",
        "\n",
        "  while valido:\n",
        "    val = input(recurso + ': ')\n",
        "\n",
        "    if not val.isdigit(): valido = False\n",
        "\n",
        "  prever[recurso] = [float(val)]\n",
        "\n",
        "previsoes = classificador.predict(entrada(prever))\n",
        "\n",
        "print(f'Previsto para {funcionamento[list(previsoes[0]).index(max(list(previsoes[0])))]}')"
      ],
      "metadata": {
        "id": "j3mbznlVVsq9"
      },
      "execution_count": null,
      "outputs": []
    }
  ]
}