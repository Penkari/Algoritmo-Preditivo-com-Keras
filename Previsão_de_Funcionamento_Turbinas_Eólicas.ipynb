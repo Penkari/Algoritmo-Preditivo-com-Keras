{
  "nbformat": 4,
  "nbformat_minor": 0,
  "metadata": {
    "colab": {
      "provenance": []
    },
    "kernelspec": {
      "name": "python3",
      "display_name": "Python 3"
    },
    "language_info": {
      "name": "python"
    }
  },
  "cells": [
    {
      "cell_type": "code",
      "execution_count": 1,
      "metadata": {
        "id": "rMIubW1EpXLU"
      },
      "outputs": [],
      "source": [
        "import tensorflow as teras\n",
        "\n",
        "import pandas as pandinha\n",
        "\n",
        "from numpy import array as array_numerico"
      ]
    },
    {
      "cell_type": "code",
      "source": [
        "nome_das_colunas = ['LV-ActivePower-kW', 'Wind-Speed-m/s', 'Theoretical-Power-Curve-KWh', 'Wind-Direction', 'potenciado']\n",
        "\n",
        "funcionamento = ['Fora do Limite Aceitável', 'Dentro do Limite Aceitável']\n",
        "\n",
        "resultados = []"
      ],
      "metadata": {
        "id": "_9gevEBYpro8"
      },
      "execution_count": 2,
      "outputs": []
    },
    {
      "cell_type": "code",
      "source": [
        "arquivo = pandinha.read_csv(teras.keras.utils.get_file(\n",
        "    'raw_turbina_scala.csv',\n",
        "    'https://raw.githubusercontent.com/vhsmdev/analytics-turbina-eolica/main/data/raw/raw_turbina_scala.csv'))\n",
        "\n",
        "potenciado = []\n",
        "\n",
        "for p, potencia in enumerate(list(arquivo['LV ActivePower (kW)'])):\n",
        "  if potencia >= (arquivo.loc[p, 'Theoretical_Power_Curve (KWh)'] * 0.95) and potencia <= (arquivo.loc[p, 'Theoretical_Power_Curve (KWh)'] * 1.05):\n",
        "    potenciado.append(1)\n",
        "\n",
        "  else:\n",
        "    potenciado.append(0)\n",
        "\n",
        "arquivo['potenciado'] = potenciado\n",
        "\n",
        "arquivo = pandinha.concat([arquivo, arquivo.loc[(arquivo['LV ActivePower (kW)'] == 0.0) |\n",
        "                                                  (arquivo['Wind Speed (m/s)'] == 0.0) |\n",
        "                                                  (arquivo['Theoretical_Power_Curve (KWh)'] == 0.0) |\n",
        "                                                  (arquivo['Wind Direction (°)'] == 0.0)]])\n",
        "\n",
        "arquivo = arquivo.drop_duplicates(keep = False).drop('Date/Time', axis = 1)\n",
        "\n",
        "arquivo.columns = nome_das_colunas\n",
        "\n",
        "treino = arquivo[9821:]\n",
        "\n",
        "prova = arquivo[:9821]\n",
        "\n",
        "for embaralhamento in range(1000):\n",
        "  treino = treino.sample(frac = 1).reset_index(drop = True)\n",
        "\n",
        "  prova = prova.sample(frac = 1).reset_index(drop = True)\n",
        "\n",
        "treino_y = treino.pop('potenciado')\n",
        "\n",
        "prova_y = prova.pop('potenciado')"
      ],
      "metadata": {
        "id": "vkmxFJmeFw8y",
        "colab": {
          "base_uri": "https://localhost:8080/"
        },
        "outputId": "63b0d7ec-79cc-48d7-8d7c-4aeff030c9c7"
      },
      "execution_count": 3,
      "outputs": [
        {
          "output_type": "stream",
          "name": "stdout",
          "text": [
            "Downloading data from https://raw.githubusercontent.com/vhsmdev/analytics-turbina-eolica/main/data/raw/raw_turbina_scala.csv\n",
            "\u001b[1m3921320/3921320\u001b[0m \u001b[32m━━━━━━━━━━━━━━━━━━━━\u001b[0m\u001b[37m\u001b[0m \u001b[1m0s\u001b[0m 0us/step\n"
          ]
        }
      ]
    },
    {
      "cell_type": "code",
      "source": [
        "classificador = teras.keras.Sequential([teras.keras.Input(shape = (4, )),\n",
        "                                        teras.keras.layers.Dense(24, activation='relu'),\n",
        "                                        teras.keras.layers.Dense(12, activation='relu'),\n",
        "                                        teras.keras.layers.Dense(2, activation='softmax')])\n",
        "\n",
        "classificador.compile(optimizer = 'adam',\n",
        "                      loss = 'sparse_categorical_crossentropy',\n",
        "                      metrics = ['accuracy'])\n",
        "\n",
        "treinamento = classificador.fit(treino, treino_y,\n",
        "                                epochs = 20,\n",
        "                                validation_data = (prova, prova_y))\n",
        "\n",
        "print(f'Precisão do Modelo: {treinamento.history[\"val_accuracy\"][19] * 100 :.2f}%')"
      ],
      "metadata": {
        "id": "FwUg5ul76w3j",
        "colab": {
          "base_uri": "https://localhost:8080/"
        },
        "outputId": "1c3b24ff-3fe0-4f48-9581-6232ef53530c"
      },
      "execution_count": 5,
      "outputs": [
        {
          "output_type": "stream",
          "name": "stdout",
          "text": [
            "Epoch 1/20\n",
            "\u001b[1m921/921\u001b[0m \u001b[32m━━━━━━━━━━━━━━━━━━━━\u001b[0m\u001b[37m\u001b[0m \u001b[1m3s\u001b[0m 2ms/step - accuracy: 0.8237 - loss: 15.2322 - val_accuracy: 0.9367 - val_loss: 0.2162\n",
            "Epoch 2/20\n",
            "\u001b[1m921/921\u001b[0m \u001b[32m━━━━━━━━━━━━━━━━━━━━\u001b[0m\u001b[37m\u001b[0m \u001b[1m2s\u001b[0m 2ms/step - accuracy: 0.9493 - loss: 0.1933 - val_accuracy: 0.9342 - val_loss: 0.4803\n",
            "Epoch 3/20\n",
            "\u001b[1m921/921\u001b[0m \u001b[32m━━━━━━━━━━━━━━━━━━━━\u001b[0m\u001b[37m\u001b[0m \u001b[1m3s\u001b[0m 3ms/step - accuracy: 0.9505 - loss: 0.2758 - val_accuracy: 0.9608 - val_loss: 0.1069\n",
            "Epoch 4/20\n",
            "\u001b[1m921/921\u001b[0m \u001b[32m━━━━━━━━━━━━━━━━━━━━\u001b[0m\u001b[37m\u001b[0m \u001b[1m2s\u001b[0m 2ms/step - accuracy: 0.9671 - loss: 0.1472 - val_accuracy: 0.9543 - val_loss: 0.1675\n",
            "Epoch 5/20\n",
            "\u001b[1m921/921\u001b[0m \u001b[32m━━━━━━━━━━━━━━━━━━━━\u001b[0m\u001b[37m\u001b[0m \u001b[1m2s\u001b[0m 2ms/step - accuracy: 0.9691 - loss: 0.1655 - val_accuracy: 0.9455 - val_loss: 0.2232\n",
            "Epoch 6/20\n",
            "\u001b[1m921/921\u001b[0m \u001b[32m━━━━━━━━━━━━━━━━━━━━\u001b[0m\u001b[37m\u001b[0m \u001b[1m2s\u001b[0m 2ms/step - accuracy: 0.9550 - loss: 0.3072 - val_accuracy: 0.8601 - val_loss: 1.7704\n",
            "Epoch 7/20\n",
            "\u001b[1m921/921\u001b[0m \u001b[32m━━━━━━━━━━━━━━━━━━━━\u001b[0m\u001b[37m\u001b[0m \u001b[1m2s\u001b[0m 2ms/step - accuracy: 0.9647 - loss: 0.1716 - val_accuracy: 0.9867 - val_loss: 0.0397\n",
            "Epoch 8/20\n",
            "\u001b[1m921/921\u001b[0m \u001b[32m━━━━━━━━━━━━━━━━━━━━\u001b[0m\u001b[37m\u001b[0m \u001b[1m2s\u001b[0m 2ms/step - accuracy: 0.9751 - loss: 0.1050 - val_accuracy: 0.9193 - val_loss: 0.6649\n",
            "Epoch 9/20\n",
            "\u001b[1m921/921\u001b[0m \u001b[32m━━━━━━━━━━━━━━━━━━━━\u001b[0m\u001b[37m\u001b[0m \u001b[1m4s\u001b[0m 3ms/step - accuracy: 0.9695 - loss: 0.1857 - val_accuracy: 0.9428 - val_loss: 0.2077\n",
            "Epoch 10/20\n",
            "\u001b[1m921/921\u001b[0m \u001b[32m━━━━━━━━━━━━━━━━━━━━\u001b[0m\u001b[37m\u001b[0m \u001b[1m2s\u001b[0m 2ms/step - accuracy: 0.9775 - loss: 0.1070 - val_accuracy: 0.9795 - val_loss: 0.0542\n",
            "Epoch 11/20\n",
            "\u001b[1m921/921\u001b[0m \u001b[32m━━━━━━━━━━━━━━━━━━━━\u001b[0m\u001b[37m\u001b[0m \u001b[1m2s\u001b[0m 2ms/step - accuracy: 0.9810 - loss: 0.0804 - val_accuracy: 0.9855 - val_loss: 0.0401\n",
            "Epoch 12/20\n",
            "\u001b[1m921/921\u001b[0m \u001b[32m━━━━━━━━━━━━━━━━━━━━\u001b[0m\u001b[37m\u001b[0m \u001b[1m2s\u001b[0m 2ms/step - accuracy: 0.9799 - loss: 0.0980 - val_accuracy: 0.9899 - val_loss: 0.0246\n",
            "Epoch 13/20\n",
            "\u001b[1m921/921\u001b[0m \u001b[32m━━━━━━━━━━━━━━━━━━━━\u001b[0m\u001b[37m\u001b[0m \u001b[1m2s\u001b[0m 2ms/step - accuracy: 0.9802 - loss: 0.0850 - val_accuracy: 0.9187 - val_loss: 0.5827\n",
            "Epoch 14/20\n",
            "\u001b[1m921/921\u001b[0m \u001b[32m━━━━━━━━━━━━━━━━━━━━\u001b[0m\u001b[37m\u001b[0m \u001b[1m3s\u001b[0m 3ms/step - accuracy: 0.9793 - loss: 0.0971 - val_accuracy: 0.9695 - val_loss: 0.1286\n",
            "Epoch 15/20\n",
            "\u001b[1m921/921\u001b[0m \u001b[32m━━━━━━━━━━━━━━━━━━━━\u001b[0m\u001b[37m\u001b[0m \u001b[1m3s\u001b[0m 3ms/step - accuracy: 0.9775 - loss: 0.1187 - val_accuracy: 0.9705 - val_loss: 0.0919\n",
            "Epoch 16/20\n",
            "\u001b[1m921/921\u001b[0m \u001b[32m━━━━━━━━━━━━━━━━━━━━\u001b[0m\u001b[37m\u001b[0m \u001b[1m2s\u001b[0m 2ms/step - accuracy: 0.9821 - loss: 0.0679 - val_accuracy: 0.9862 - val_loss: 0.0345\n",
            "Epoch 17/20\n",
            "\u001b[1m921/921\u001b[0m \u001b[32m━━━━━━━━━━━━━━━━━━━━\u001b[0m\u001b[37m\u001b[0m \u001b[1m3s\u001b[0m 2ms/step - accuracy: 0.9823 - loss: 0.0563 - val_accuracy: 0.9851 - val_loss: 0.0407\n",
            "Epoch 18/20\n",
            "\u001b[1m921/921\u001b[0m \u001b[32m━━━━━━━━━━━━━━━━━━━━\u001b[0m\u001b[37m\u001b[0m \u001b[1m2s\u001b[0m 2ms/step - accuracy: 0.9836 - loss: 0.0507 - val_accuracy: 0.9810 - val_loss: 0.0495\n",
            "Epoch 19/20\n",
            "\u001b[1m921/921\u001b[0m \u001b[32m━━━━━━━━━━━━━━━━━━━━\u001b[0m\u001b[37m\u001b[0m \u001b[1m2s\u001b[0m 2ms/step - accuracy: 0.9848 - loss: 0.0456 - val_accuracy: 0.9632 - val_loss: 0.1272\n",
            "Epoch 20/20\n",
            "\u001b[1m921/921\u001b[0m \u001b[32m━━━━━━━━━━━━━━━━━━━━\u001b[0m\u001b[37m\u001b[0m \u001b[1m4s\u001b[0m 3ms/step - accuracy: 0.9858 - loss: 0.0475 - val_accuracy: 0.9792 - val_loss: 0.0580\n",
            "Precisão do Modelo: 97.92%\n"
          ]
        }
      ]
    },
    {
      "cell_type": "code",
      "source": [
        "def entrada(recursos):\n",
        "  return teras.data.Dataset.from_tensor_slices(array_numerico(recursos)).batch(256)"
      ],
      "metadata": {
        "id": "m6K3X7qgVagt"
      },
      "execution_count": 6,
      "outputs": []
    },
    {
      "cell_type": "code",
      "source": [
        "recursado = ['LV-ActivePower-kW', 'Wind-Speed-m/s', 'Theoretical-Power-Curve-KWh', 'Wind-Direction']\n",
        "prever = []"
      ],
      "metadata": {
        "id": "RsL2c4-FVb5E"
      },
      "execution_count": 7,
      "outputs": []
    },
    {
      "cell_type": "markdown",
      "source": [
        "380.7 5.4 458.2 11.7 esperado:0 resultado:0\n",
        "\n",
        "2613.4 11.0 3284.7 72.2 esperado:0 resultado:0\n",
        "\n",
        "1.0 3.7 84.7 78.5 esperado:0 resultado:0\n",
        "\n",
        "491.4 5.7 542.1 69.1 esperado:0 resultado:0\n",
        "\n",
        "2814.8 10.7 3195.4 213.9 esperado:0 resultado:0\n",
        "\n",
        "3603.0 14.4 3600.0 198.7 esperado:1 resultado:1\n",
        "\n",
        "835.8 6.8 941.6 190.3 esperado:0 resultado:0\n",
        "\n",
        "440.8 5.5 471.3 37.9 esperado:0 resultado:0\n",
        "\n",
        "2374.5 10.1 2884.0 201.7 esperado:0 resultado:0\n",
        "\n",
        "893.0 9.0 2194.3 26.7 esperado:0 resultado:0"
      ],
      "metadata": {
        "id": "FtI0jAd2HbLV"
      }
    },
    {
      "cell_type": "code",
      "source": [
        "for recurso in recursado:\n",
        "  valido = True\n",
        "\n",
        "  while valido:\n",
        "    val = input(recurso + ': ')\n",
        "\n",
        "    if not val.isdigit(): valido = False\n",
        "\n",
        "  prever.append(float(val))\n",
        "\n",
        "previsoes = classificador.predict(entrada([prever]))\n",
        "\n",
        "prever = []\n",
        "\n",
        "print(f'Previsto para {funcionamento[list(previsoes[0]).index(max(list(previsoes[0])))]}')"
      ],
      "metadata": {
        "id": "j3mbznlVVsq9",
        "colab": {
          "base_uri": "https://localhost:8080/"
        },
        "outputId": "218cd260-a3c5-457c-f180-a26bd86741d6"
      },
      "execution_count": null,
      "outputs": [
        {
          "output_type": "stream",
          "name": "stdout",
          "text": [
            "LV-ActivePower-kW: 3603.0\n",
            "Wind-Speed-m/s: 14.4\n",
            "Theoretical-Power-Curve-KWh: 3600.0\n",
            "Wind-Direction: 198.7\n",
            "\u001b[1m1/1\u001b[0m \u001b[32m━━━━━━━━━━━━━━━━━━━━\u001b[0m\u001b[37m\u001b[0m \u001b[1m0s\u001b[0m 41ms/step\n",
            "Previsto para Dentro do Limite Aceitável\n"
          ]
        }
      ]
    }
  ]
}